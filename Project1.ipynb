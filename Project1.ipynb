{
 "cells": [
  {
   "cell_type": "markdown",
   "id": "1a4ef00e",
   "metadata": {},
   "source": [
    "# Project 1\n",
    "## Thomas Clark, Jacob Coyle\n",
    "***\n",
    "#### The file participants.csv contains meeting attendance data reported by Zoom for the first five weeks of a course. Each row contains the name of a student along with the number of minutes that the student was logged in to the course Zoom meeting. (The names of students have been changed to protect the innocent.)"
   ]
  },
  {
   "cell_type": "code",
   "execution_count": 7,
   "id": "879caec1",
   "metadata": {
    "scrolled": false
   },
   "outputs": [
    {
     "name": "stdout",
     "output_type": "stream",
     "text": [
      "Student Name   |Week 1         |Week 2         |Week 3         |Week 4         |Week 5         |\n",
      "Adrian Ellison |77             |154            |4              |170            |175            |\n",
      "Ophelia Mcphee |179            |151            |164            |173            |171            |\n",
      "Yasir Fenton   |180            |47             |164            |168            |169            |\n",
      "Benny Arias    |180            |152            |161            |170            |170            |\n",
      "Tamara Cottrel |183            |79             |161            |173            |168            |\n",
      "Jada Calhoun   |178            |147            |162            |171            |175            |\n",
      "Marlene Parry  |174            |150            |159            |171            |170            |\n",
      "Jazmin Foreman |181            |103            |157            |172            |35             |\n",
      "Bear Zuniga    |180            |131            |160            |170            |182            |\n",
      "Sanjay Edwards |173            |154            |161            |171            |66             |\n",
      "Vicki Person   |178            |156            |161            |172            |173            |\n",
      "Teegan Fleming |183            |153            |156            |167            |161            |\n",
      "Alfie-James Pi |180            |150            |155            |172            |74             |\n",
      "Waleed Wagstaf |174            |153            |161            |168            |176            |\n",
      "Miles Lyons    |177            |2              |160            |173            |169            |\n",
      "Ayrton Justice |178            |153            |160            |169            |175            |\n",
      "Adeline Jordan |179            |152            |105            |172            |195            |\n",
      "Katelyn Beard  |179            |146            |164            |170            |171            |\n",
      "Lindsey Fuller |177            |157            |159            |172            |174            |\n",
      "Annabell Hart  |177            |155            |162            |171            |174            |\n",
      "Tayla Sparrow  |51             |154            |166            |170            |174            |\n",
      "Kai Cabrera    |170            |151            |160            |173            |168            |\n",
      "Rosie Higgins  |175            |153            |157            |172            |170            |\n",
      "Dora Delacruz  |175            |147            |161            |316            |175            |\n",
      "Daniella Gould |176            |153            |167            |173            |167            |\n",
      "Shaquille Wood |175            |154            |165            |184            |170            |\n",
      "Aditi Abbott   |175            |148            |168            |168            |171            |\n",
      "Gabija Whitney |175            |153            |165            |172            |178            |\n",
      "Fynn Robin     |170            |154            |163            |173            |175            |\n",
      "Jaye Sweeney   |174            |156            |121            |169            |168            |\n",
      "Saffa Brook    |175            |154            |164            |171            |143            |\n",
      "Kameron Anthon |174            |157            |149            |169            |169            |\n",
      "Owain Emerson  |9              |290            |163            |170            |164            |\n",
      "Tim O'Connor   |170            |155            |157            |171            |174            |\n",
      "Alaya Dickinso |24             |154            |161            |170            |174            |\n"
     ]
    }
   ],
   "source": [
    "#Load up the data with a csv.reader object\n",
    "import csv\n",
    "\n",
    "fn = \"./participants.csv\"\n",
    "\n",
    "fields = []\n",
    "rows = []\n",
    "\n",
    "with open(fn, 'r') as csvfile:\n",
    "    csvreader = csv.reader(csvfile)\n",
    "    \n",
    "    fields = next(csvreader)\n",
    "    for row in csvreader:\n",
    "        rows.append(row)\n",
    "        \n",
    "def tableform(a):\n",
    "    for units in a:\n",
    "        #Truncating names cause damn, some of y'all have long names\n",
    "        print('{:15.14}'.format(units), end = '|')\n",
    "    print()\n",
    "        \n",
    "tableform(fields)\n",
    "for group in rows:\n",
    "    tableform(group)"
   ]
  },
  {
   "cell_type": "markdown",
   "id": "a838fcc4",
   "metadata": {},
   "source": [
    "***\n",
    "#### Load the statistics module and use it to find the mean and median of Week 1’s data."
   ]
  },
  {
   "cell_type": "code",
   "execution_count": 26,
   "id": "12624ab3",
   "metadata": {},
   "outputs": [
    {
     "name": "stdout",
     "output_type": "stream",
     "text": [
      "Mean = 161\n",
      "Median = 175\n"
     ]
    }
   ],
   "source": [
    "import statistics as stats\n",
    "\n",
    "#names to track who we're looking at\n",
    "week1 = []\n",
    "names = []\n",
    "for group in rows:\n",
    "    week1.append(int(group[1]))\n",
    "    names.append(group[0])\n",
    "    \n",
    "# week1\n",
    "mean1 = stats.mean(week1)\n",
    "print(\"Mean =\", mean1)\n",
    "print(\"Median =\", stats.median(week1))"
   ]
  },
  {
   "cell_type": "markdown",
   "id": "274c23d0",
   "metadata": {},
   "source": [
    "***\n",
    "#### Find the quartiles for Week 1."
   ]
  },
  {
   "cell_type": "code",
   "execution_count": 8,
   "id": "f4dde3bf",
   "metadata": {},
   "outputs": [
    {
     "name": "stdout",
     "output_type": "stream",
     "text": [
      "Quartiles = [174.0, 175.0, 179.0]\n"
     ]
    }
   ],
   "source": [
    "quartiles = stats.quantiles(week1, n=4)\n",
    "print(\"Quartiles =\", quartiles)"
   ]
  },
  {
   "cell_type": "markdown",
   "id": "a996b17d",
   "metadata": {},
   "source": [
    "***\n",
    "#### In order to record attendance, we want to find the students who logged into the Zoom meeting but did not attend the entire lecture. In order to do this, we can look for outliers in the data\n",
    "#### Tukey’s fences are a simple method to define outliers in terms of the interquartile range. (In fact, they are usually included as whiskers in box plots in order to visualize outliers). \n",
    "Turkeys Fence: $ {\\big [}Q_{1}-k(Q_{3}-Q_{1}),Q_{3}+k(Q_{3}-Q_{1}){\\big ]} $\n",
    "#### Use this method with k = 1.5 to find the outliers in the Week 1 attendance data.\n",
    "For our example: $ {\\big [}174.0 - 1.5(179.0 - 174.0), 179.0 + 1.5(179.0 - 174.0){\\big ]} $\n",
    "$$ = [174 - 7.5, 179 + 7.5] $$\n",
    "$$ = [166.5, 186.5] $$"
   ]
  },
  {
   "cell_type": "code",
   "execution_count": 18,
   "id": "98c4be42",
   "metadata": {},
   "outputs": [
    {
     "name": "stdout",
     "output_type": "stream",
     "text": [
      "Adrian Ellison          77\n",
      "Tayla Sparrow           51\n",
      "Owain Emerson            9\n",
      "Alaya Dickinson         24\n"
     ]
    }
   ],
   "source": [
    "outliers = {}\n",
    "\n",
    "for i, attendance in enumerate(week1):\n",
    "    if attendance < quartiles[0] - 7.5 or attendance > quartiles[2] + 7.5:\n",
    "        outliers[names[i]] = attendance\n",
    "\n",
    "for keys in outliers:\n",
    "    print('{:20.19}'.format(keys), '{:5}'.format(outliers[keys]))"
   ]
  },
  {
   "cell_type": "markdown",
   "id": "9f143d31",
   "metadata": {},
   "source": [
    "***\n",
    "#### Recall that in a normal distribution, 99.7% of the values lie within three standard deviations from the mean. If we assume that our data are normally distributed, this gives us another way to find outliers.\n",
    "#### Compute the standard deviation for the Week 1 attendance data, then use this method to find the outliers. Do your results agree with experiment (4)?"
   ]
  },
  {
   "cell_type": "code",
   "execution_count": 29,
   "id": "5c5bd5cc",
   "metadata": {},
   "outputs": [
    {
     "name": "stdout",
     "output_type": "stream",
     "text": [
      "Owain Emerson            9\n",
      "Alaya Dickinson         24\n"
     ]
    }
   ],
   "source": [
    "outliers.clear()\n",
    "stdv = stats.stdev(week1)\n",
    "\n",
    "for i, attendance in enumerate(week1):\n",
    "    if attendance < mean1 - (3 * stdv) or attendance > mean1 + (3 * stdv):\n",
    "        outliers[names[i]] = attendance\n",
    "\n",
    "for keys in outliers:\n",
    "    print('{:20.19}'.format(keys), '{:5}'.format(outliers[keys]))"
   ]
  },
  {
   "cell_type": "markdown",
   "id": "c94881e4",
   "metadata": {},
   "source": [
    "This does not agree with the results from experiment 4, these outliers are more extreme than what was produced with the turkey fence\n",
    "***\n",
    "#### Define a function tardy_iqr() to make experiment (4) repeatable. This function should take the name of a column (e.g. 'Week 1') and return a list of names for whom the number of minutes is below the lower Tukey fence (e.g. ['Alaya Dickinson', 'Owain Emerson']). Verify that this function returns the same results as experiment (4)."
   ]
  },
  {
   "cell_type": "code",
   "execution_count": 52,
   "id": "884598eb",
   "metadata": {},
   "outputs": [
    {
     "name": "stdout",
     "output_type": "stream",
     "text": [
      "Adrian Ellison          77\n",
      "Tayla Sparrow           51\n",
      "Owain Emerson            9\n",
      "Alaya Dickinson         24\n"
     ]
    }
   ],
   "source": [
    "#using regular expressions to get decimal digits\n",
    "import re\n",
    "\n",
    "def tardy_iqr(a):\n",
    "    \n",
    "    col = int(re.findall(\"\\d+\", a)[0])\n",
    "    values = []\n",
    "    outliers.clear()\n",
    "    \n",
    "    for items in rows:\n",
    "        values.append(int(items[col]))\n",
    "    \n",
    "    quartiles = stats.quantiles(values, n=4)\n",
    "    fence = 1.5 * (quartiles[2] - quartiles[0])\n",
    "    \n",
    "    for i, attendance in enumerate(values):\n",
    "        if attendance > quartiles[2] + fence or attendance < quartiles[0] - fence:\n",
    "            outliers[names[i]] = attendance\n",
    "            \n",
    "    for keys in outliers:\n",
    "        print('{:20.19}'.format(keys), '{:5}'.format(outliers[keys]))\n",
    "    \n",
    "tardy_iqr(\"week 1\")"
   ]
  },
  {
   "cell_type": "code",
   "execution_count": null,
   "id": "f365704d",
   "metadata": {},
   "outputs": [],
   "source": []
  }
 ],
 "metadata": {
  "kernelspec": {
   "display_name": "Python 3",
   "language": "python",
   "name": "python3"
  },
  "language_info": {
   "codemirror_mode": {
    "name": "ipython",
    "version": 3
   },
   "file_extension": ".py",
   "mimetype": "text/x-python",
   "name": "python",
   "nbconvert_exporter": "python",
   "pygments_lexer": "ipython3",
   "version": "3.8.8"
  }
 },
 "nbformat": 4,
 "nbformat_minor": 5
}
